{
 "cells": [
  {
   "cell_type": "code",
   "execution_count": 7,
   "metadata": {
    "scrolled": true
   },
   "outputs": [],
   "source": [
    "expense_lines = []\n",
    "\n",
    "f = open(\"Inputs/Day1.txt\", \"r\")\n",
    "for x in f:\n",
    "  expense_lines.append(int(x))"
   ]
  },
  {
   "cell_type": "code",
   "execution_count": 12,
   "metadata": {},
   "outputs": [
    {
     "name": "stdout",
     "output_type": "stream",
     "text": [
      "[(456, 1564), (1564, 456)]\n",
      "713184\n"
     ]
    }
   ],
   "source": [
    "# Part 1: 2 numbers that sum to 2020\n",
    "import itertools\n",
    "\n",
    "all_combos = itertools.product(expense_lines, expense_lines)\n",
    "sum_2020 = [ x for x in all_combos if x[0] + x[1] ==2020]\n",
    "print(sum_2020)\n",
    "\n",
    "print(sum_2020[0][0] * sum_2020[0][1])"
   ]
  },
  {
   "cell_type": "code",
   "execution_count": 13,
   "metadata": {},
   "outputs": [
    {
     "name": "stdout",
     "output_type": "stream",
     "text": [
      "[(764, 857, 399), (764, 399, 857), (857, 764, 399), (857, 399, 764), (399, 764, 857), (399, 857, 764)]\n",
      "261244452\n"
     ]
    }
   ],
   "source": [
    "# Part 2: 3 numbers that sum to 2020\n",
    "import itertools\n",
    "\n",
    "all_combos = itertools.product(expense_lines, expense_lines, expense_lines)\n",
    "sum_2020 = [ x for x in all_combos if x[0] + x[1] + x[2] ==2020]\n",
    "print(sum_2020)\n",
    "\n",
    "print(sum_2020[0][0] * sum_2020[0][1] * sum_2020[0][2])"
   ]
  }
 ],
 "metadata": {
  "kernelspec": {
   "display_name": "Python 3",
   "language": "python",
   "name": "python3"
  },
  "language_info": {
   "codemirror_mode": {
    "name": "ipython",
    "version": 3
   },
   "file_extension": ".py",
   "mimetype": "text/x-python",
   "name": "python",
   "nbconvert_exporter": "python",
   "pygments_lexer": "ipython3",
   "version": "3.8.5"
  }
 },
 "nbformat": 4,
 "nbformat_minor": 4
}
