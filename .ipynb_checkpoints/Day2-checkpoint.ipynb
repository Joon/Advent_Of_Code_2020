{
 "cells": [
  {
   "cell_type": "code",
   "execution_count": 17,
   "metadata": {},
   "outputs": [],
   "source": [
    "password_lines = []\n",
    "\n",
    "f = open(\"Inputs/Day2.txt\", \"r\")\n",
    "for x in f:\n",
    "  password_lines.append(x)\n",
    "\n",
    "parsed_pw = [p.split(' ') for p in password_lines]\n"
   ]
  },
  {
   "cell_type": "code",
   "execution_count": 20,
   "metadata": {},
   "outputs": [
    {
     "name": "stdout",
     "output_type": "stream",
     "text": [
      "655\n"
     ]
    }
   ],
   "source": [
    "# Day 2 Part 1: Validate passwords, assume rule number is occurrence count\n",
    "\n",
    "def pw_valid_int(pw):\n",
    "    min_occur = int(pw[0].split('-')[0])\n",
    "    max_occur = int(pw[0].split('-')[1])\n",
    "    letter = pw[1][0]\n",
    "    count_occur = pw[2].count(letter)\n",
    "    if min_occur <= count_occur & count_occur <= max_occur:\n",
    "        return 1\n",
    "    else:\n",
    "        return 0\n",
    "\n",
    "count_valid_pw = sum([pw_valid_int(p) for p in parsed_pw])\n",
    "print(count_valid_pw)"
   ]
  },
  {
   "cell_type": "code",
   "execution_count": 25,
   "metadata": {},
   "outputs": [
    {
     "name": "stdout",
     "output_type": "stream",
     "text": [
      "673\n"
     ]
    }
   ],
   "source": [
    "# Day 2 Part 2: Validate passwords, assume rule number is occurrence index\n",
    "\n",
    "def pw_valid2_int(pw):\n",
    "    index_1 = int(pw[0].split('-')[0])\n",
    "    index_2 = int(pw[0].split('-')[1])\n",
    "    letter = pw[1][0]\n",
    "    \n",
    "    if (pw[2][index_1 - 1] == letter) ^ (pw[2][index_2 - 1] == letter):\n",
    "        return 1\n",
    "    else:\n",
    "        return 0\n",
    "\n",
    "count_valid2_pw = sum([pw_valid2_int(p) for p in parsed_pw])\n",
    "print(count_valid2_pw)"
   ]
  }
 ],
 "metadata": {
  "kernelspec": {
   "display_name": "Python 3",
   "language": "python",
   "name": "python3"
  },
  "language_info": {
   "codemirror_mode": {
    "name": "ipython",
    "version": 3
   },
   "file_extension": ".py",
   "mimetype": "text/x-python",
   "name": "python",
   "nbconvert_exporter": "python",
   "pygments_lexer": "ipython3",
   "version": "3.8.5"
  }
 },
 "nbformat": 4,
 "nbformat_minor": 4
}
