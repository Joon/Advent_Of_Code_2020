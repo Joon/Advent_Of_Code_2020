{
 "cells": [
  {
   "cell_type": "code",
   "execution_count": 16,
   "metadata": {},
   "outputs": [],
   "source": [
    "import unicodedata\n",
    "\n",
    "tree_pattern = []\n",
    "\n",
    "f = open(\"Inputs/Day3.txt\", \"r\")\n",
    "for x in f:    \n",
    "    tree_pattern.append(\"\".join(ch for ch in x if unicodedata.category(ch)[0]!=\"C\"))\n",
    "\n",
    "trees = tree_pattern.copy()"
   ]
  },
  {
   "cell_type": "code",
   "execution_count": 17,
   "metadata": {},
   "outputs": [
    {
     "ename": "SyntaxError",
     "evalue": "invalid syntax (<ipython-input-17-3452b5c5986e>, line 15)",
     "output_type": "error",
     "traceback": [
      "\u001b[1;36m  File \u001b[1;32m\"<ipython-input-17-3452b5c5986e>\"\u001b[1;36m, line \u001b[1;32m15\u001b[0m\n\u001b[1;33m    if (trees[line][x_index] == \"#\")\u001b[0m\n\u001b[1;37m                                    ^\u001b[0m\n\u001b[1;31mSyntaxError\u001b[0m\u001b[1;31m:\u001b[0m invalid syntax\n"
     ]
    }
   ],
   "source": [
    "def expand_trees(tree_list, tree_pattern):\n",
    "    ret_list = []\n",
    "    line_index = 0 \n",
    "    for line in tree_list:        \n",
    "        ret_list.append(line + tree_pattern[line_index])\n",
    "        line_index = line_index + 1\n",
    "    return ret_list\n",
    "\n",
    "tree_count = 0\n",
    "x_index = 0\n",
    "for line in range(len(trees)):\n",
    "    print('checking line ' + line + ', position ' + x_index)\n",
    "    if (x_index) >= len(trees[line]):\n",
    "        trees = expand_trees(trees, tree_pattern)\n",
    "    if (trees[line][x_index] == \"#\")\n",
    "        tree_count = tree_count + 1\n",
    "    x_index = x_index + 3\n",
    "\n",
    "print(tree_count)"
   ]
  },
  {
   "cell_type": "code",
   "execution_count": null,
   "metadata": {},
   "outputs": [],
   "source": []
  }
 ],
 "metadata": {
  "kernelspec": {
   "display_name": "Python 3",
   "language": "python",
   "name": "python3"
  },
  "language_info": {
   "codemirror_mode": {
    "name": "ipython",
    "version": 3
   },
   "file_extension": ".py",
   "mimetype": "text/x-python",
   "name": "python",
   "nbconvert_exporter": "python",
   "pygments_lexer": "ipython3",
   "version": "3.8.5"
  }
 },
 "nbformat": 4,
 "nbformat_minor": 4
}
