{
 "cells": [
  {
   "cell_type": "code",
   "execution_count": 50,
   "metadata": {},
   "outputs": [
    {
     "name": "stdout",
     "output_type": "stream",
     "text": [
      "[{'pid': '087499704', 'hgt': '74in', 'ecl': 'grn', 'iyr': '2012', 'eyr': '2030', 'byr': '1980', 'hcl': '#623a2f'}, {'eyr': '2029', 'ecl': 'blu', 'cid': '129', 'byr': '1989', 'iyr': '2014', 'pid': '896056539', 'hcl': '#a97842', 'hgt': '165cm'}, {'hcl': '#888785', 'hgt': '164cm', 'byr': '2001', 'iyr': '2015', 'cid': '88', 'pid': '545766238', 'ecl': 'hzl', 'eyr': '2022'}, {'iyr': '2010', 'hgt': '158cm', 'hcl': '#b6652a', 'ecl': 'blu', 'byr': '1944', 'eyr': '2021', 'pid': '093154719'}]\n"
     ]
    }
   ],
   "source": [
    "import unicodedata\n",
    "\n",
    "passport_entries = []\n",
    "\n",
    "current_entry = {}\n",
    "f = open(\"Inputs/Day4Test2.txt\", \"r\")\n",
    "for x in f:        \n",
    "    line = \"\".join(ch for ch in x if unicodedata.category(ch)[0]!=\"C\")\n",
    "    if len(line) == 0:\n",
    "        if current_entry != {}:\n",
    "            passport_entries.append(current_entry)\n",
    "            current_entry = {}\n",
    "    else:\n",
    "        all_line_items = line.split(' ')\n",
    "        for l in all_line_items:\n",
    "            current_entry[l.split(':')[0]] = l.split(':')[1]\n",
    "if current_entry != {}:\n",
    "    passport_entries.append(current_entry)\n",
    "\n",
    "            \n",
    "print(passport_entries)"
   ]
  },
  {
   "cell_type": "code",
   "execution_count": 16,
   "metadata": {},
   "outputs": [
    {
     "name": "stdout",
     "output_type": "stream",
     "text": [
      "239\n"
     ]
    }
   ],
   "source": [
    "required_fields = ['byr', 'iyr', 'eyr' ,'hgt', 'hcl', 'ecl', 'pid']\n",
    "\n",
    "valid_passport_count = 0\n",
    "\n",
    "for pp in passport_entries:\n",
    "    all_found = True\n",
    "    for req in required_fields:\n",
    "        if req not in pp:\n",
    "            all_found = False\n",
    "    if all_found:\n",
    "        valid_passport_count = valid_passport_count + 1\n",
    "\n",
    "print(valid_passport_count)"
   ]
  },
  {
   "cell_type": "code",
   "execution_count": 51,
   "metadata": {},
   "outputs": [
    {
     "name": "stdout",
     "output_type": "stream",
     "text": [
      "hgt\n",
      "{'pid': '087499704', 'hgt': '74in', 'ecl': 'grn', 'iyr': '2012', 'eyr': '2030', 'byr': '1980', 'hcl': '#623a2f'}\n",
      "3\n"
     ]
    }
   ],
   "source": [
    "import re\n",
    "\n",
    "def validate_byr(year):\n",
    "    if (len(year) != 4 or (not year.isnumeric())):\n",
    "        return False\n",
    "    val_year = int(year)\n",
    "    #byr (Birth Year) - four digits; at least 1920 and at most 2002.\n",
    "    return val_year >= 1920 and val_year <= 2002\n",
    "    \n",
    "def validate_iyr(year):\n",
    "    if (len(year) != 4 or (not year.isnumeric())):\n",
    "        return False\n",
    "    val_year = int(year)\n",
    "    # iyr (Issue Year) - four digits; at least 2010 and at most 2020.\n",
    "    return val_year >= 2010 and val_year <= 2020\n",
    "\n",
    "def validate_eyr(year):\n",
    "    if (len(year) != 4 or (not year.isnumeric())):\n",
    "        return False\n",
    "    val_year = int(year)\n",
    "    # eyr (Expiration Year) - four digits; at least 2020 and at most 2030.\n",
    "    return val_year >= 2020 and val_year <= 2030\n",
    "\n",
    "def validate_hgt(height):\n",
    "    # hgt (Height) - a number followed by either cm or in:\n",
    "    regex = re.compile('[0-9]*(cm|in)', re.I)\n",
    "    match = regex.fullmatch(str(height))\n",
    "    if (not bool(match)):\n",
    "        return False\n",
    "    valheight = int(''.join(filter(str.isdigit, height)))\n",
    "    # If cm, the number must be at least 150 and at most 193.\n",
    "    if 'cm' in height:\n",
    "        return valheight >= 150 and valheight <=193\n",
    "    #If in, the number must be at least 59 and at most 76.\n",
    "    return valheight >= 59 and valheight <= 76\n",
    "    \n",
    "def validate_hcl(hair_color):\n",
    "    # hcl (Hair Color) - a # followed by exactly six characters 0-9 or a-f.\n",
    "    regex = re.compile('#[0-9a-f]{6}', re.I)\n",
    "    match = regex.fullmatch(str(hair_color))\n",
    "    return bool(match)\n",
    "\n",
    "def validate_ecl(eye_color):\n",
    "    # ecl (Eye Color) - exactly one of: amb blu brn gry grn hzl oth.\n",
    "    valid_ecl = ['amb', 'blu', 'brn', 'gry', 'grn', 'hzl', 'oth']\n",
    "    return eye_color in valid_ecl\n",
    "\n",
    "def validate_pid(passport_id):\n",
    "    # pid (Passport ID) - a nine-digit number, including leading zeroes.\n",
    "    regex = re.compile('[0-9]{9}', re.I)\n",
    "    match = regex.fullmatch(str(passport_id))\n",
    "    return bool(match)\n",
    "\n",
    "field_validation = {'byr': validate_byr, 'iyr': validate_iyr, 'eyr': validate_eyr, \n",
    "                    'hgt': validate_hgt, 'hcl': validate_hcl, 'ecl': validate_ecl,\n",
    "                    'pid': validate_pid}\n",
    "\n",
    "valid_passport_count = 0\n",
    "for pp in passport_entries:\n",
    "    all_found = True\n",
    "    for req in required_fields:\n",
    "        if req not in pp:\n",
    "            all_found = False\n",
    "    pp_valid = all_found\n",
    "    for field in pp.keys():\n",
    "        if (field in field_validation): \n",
    "            if not field_validation[field](pp[field]):\n",
    "                print(field)\n",
    "                print(pp)\n",
    "                pp_valid = False\n",
    "    if (pp_valid):\n",
    "        valid_passport_count = valid_passport_count + 1  \n",
    "\n",
    "print(valid_passport_count)"
   ]
  },
  {
   "cell_type": "code",
   "execution_count": 53,
   "metadata": {},
   "outputs": [],
   "source": [
    "validate_hgt('74in')"
   ]
  }
 ],
 "metadata": {
  "kernelspec": {
   "display_name": "Python 3",
   "language": "python",
   "name": "python3"
  },
  "language_info": {
   "codemirror_mode": {
    "name": "ipython",
    "version": 3
   },
   "file_extension": ".py",
   "mimetype": "text/x-python",
   "name": "python",
   "nbconvert_exporter": "python",
   "pygments_lexer": "ipython3",
   "version": "3.8.5"
  }
 },
 "nbformat": 4,
 "nbformat_minor": 4
}
