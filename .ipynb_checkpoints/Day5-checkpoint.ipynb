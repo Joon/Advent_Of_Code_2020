{
 "cells": [
  {
   "cell_type": "code",
   "execution_count": 68,
   "metadata": {},
   "outputs": [],
   "source": [
    "import unicodedata\n",
    "\n",
    "boarding_passes = []\n",
    "\n",
    "current_entry = {}\n",
    "f = open(\"Inputs/Day5.txt\", \"r\")\n",
    "for x in f:        \n",
    "    boarding_passes.append(\"\".join(ch for ch in x if unicodedata.category(ch)[0]!=\"C\"))"
   ]
  },
  {
   "cell_type": "code",
   "execution_count": 69,
   "metadata": {},
   "outputs": [],
   "source": [
    "def calc_row(boarding_pass):\n",
    "    #Start by considering the whole range, rows 0 through 127.\n",
    "    upper_bound = 127\n",
    "    lower_bound = 0\n",
    "    for i in range(0,6):\n",
    "        if (boarding_pass[i] == 'F'):\n",
    "            upper_bound = upper_bound - round((upper_bound - lower_bound) / 2)\n",
    "        else:\n",
    "            lower_bound = lower_bound + round((upper_bound - lower_bound) / 2)\n",
    "    if boarding_pass[6] == 'F':\n",
    "        return lower_bound\n",
    "    return upper_bound\n",
    "\n",
    "def calc_column(boarding_pass):\n",
    "    #Start by considering the whole range, rows 0 through 127.\n",
    "    upper_bound = 7\n",
    "    lower_bound = 0\n",
    "    for i in range(7,9):\n",
    "        if (boarding_pass[i] == 'L'):\n",
    "            upper_bound = upper_bound - round((upper_bound - lower_bound) / 2)\n",
    "        else:\n",
    "            lower_bound = lower_bound + round((upper_bound - lower_bound) / 2)\n",
    "    if boarding_pass[9] == 'L':\n",
    "        return lower_bound\n",
    "    return upper_bound\n",
    "    \n",
    "def calc_seat_id(boarding_pass):\n",
    "    row = calc_row(boarding_pass)\n",
    "    column = calc_column(boarding_pass)\n",
    "    # multiply the row by 8, then add the column.\n",
    "    return (row * 8) + column"
   ]
  },
  {
   "cell_type": "code",
   "execution_count": 70,
   "metadata": {},
   "outputs": [
    {
     "name": "stdout",
     "output_type": "stream",
     "text": [
      "838\n"
     ]
    }
   ],
   "source": [
    "# Part 1: Find max id\n",
    "max_boarding_pass = 0\n",
    "for boarding_pass in boarding_passes:\n",
    "    current_id = calc_seat_id(boarding_pass)\n",
    "    if (current_id > max_boarding_pass):\n",
    "        max_boarding_pass = current_id\n",
    "        \n",
    "print(max_boarding_pass)"
   ]
  },
  {
   "cell_type": "code",
   "execution_count": 71,
   "metadata": {},
   "outputs": [
    {
     "name": "stdout",
     "output_type": "stream",
     "text": [
      "prev seat: 713, next seat: 715\n"
     ]
    }
   ],
   "source": [
    "# Part 2: Find missing seat\n",
    "all_seats = []\n",
    "for boarding_pass in boarding_passes:\n",
    "    all_seats.append(calc_seat_id(boarding_pass))\n",
    "\n",
    "all_seats.sort()\n",
    "prev_seat = -1\n",
    "for seat in all_seats:\n",
    "    if prev_seat == -1:\n",
    "        prev_seat = seat\n",
    "    else:\n",
    "        if seat - prev_seat != 1:\n",
    "            print('prev seat: ' + str(prev_seat) + ', next seat: ' + str(seat))\n",
    "        prev_seat = seat\n",
    "    "
   ]
  }
 ],
 "metadata": {
  "kernelspec": {
   "display_name": "Python 3",
   "language": "python",
   "name": "python3"
  },
  "language_info": {
   "codemirror_mode": {
    "name": "ipython",
    "version": 3
   },
   "file_extension": ".py",
   "mimetype": "text/x-python",
   "name": "python",
   "nbconvert_exporter": "python",
   "pygments_lexer": "ipython3",
   "version": "3.8.5"
  }
 },
 "nbformat": 4,
 "nbformat_minor": 4
}
