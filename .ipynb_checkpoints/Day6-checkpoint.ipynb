{
 "cells": [
  {
   "cell_type": "code",
   "execution_count": 19,
   "metadata": {},
   "outputs": [],
   "source": [
    "import unicodedata\n",
    "\n",
    "question_groups = []\n",
    "\n",
    "current_group = {}\n",
    "nr_people = 0\n",
    "f = open(\"Inputs/Day6.txt\", \"r\")\n",
    "for x in f:        \n",
    "    line = \"\".join(ch for ch in x if unicodedata.category(ch)[0]!=\"C\")\n",
    "    if len(line) == 0:\n",
    "        if current_group != {}:\n",
    "            current_group['People'] = nr_people\n",
    "            question_groups.append(current_group)\n",
    "            current_group = {}\n",
    "            nr_people = 0\n",
    "    else:\n",
    "        nr_people = nr_people + 1\n",
    "        for l in line:\n",
    "            if l in current_group.keys():\n",
    "                current_group[l] = current_group[l] + 1\n",
    "            else:\n",
    "                current_group[l] = 1\n",
    "            \n",
    "if current_group != {}:\n",
    "    question_groups.append(current_group)\n",
    "    current_group['People'] = nr_people\n",
    "    nr_people = 0\n"
   ]
  },
  {
   "cell_type": "code",
   "execution_count": 9,
   "metadata": {},
   "outputs": [
    {
     "name": "stdout",
     "output_type": "stream",
     "text": [
      "6742\n"
     ]
    }
   ],
   "source": [
    "# Part 1: Total answers answered 'yes' per group\n",
    "total_q_answered = 0\n",
    "\n",
    "for g in question_groups:\n",
    "    total_q_answered = total_q_answered + len(g.keys())\n",
    "    \n",
    "print(total_q_answered)"
   ]
  },
  {
   "cell_type": "code",
   "execution_count": 20,
   "metadata": {},
   "outputs": [
    {
     "name": "stdout",
     "output_type": "stream",
     "text": [
      "3447\n"
     ]
    }
   ],
   "source": [
    "# Part 2: Questions answered 'yes' by everyone in the group\n",
    "total_all_answered = 0\n",
    "\n",
    "for g in question_groups:\n",
    "    total_all_answered = total_all_answered + len([q for q in g.keys() if q != 'People' and g[q] == g['People']])\n",
    "    \n",
    "print(total_all_answered)"
   ]
  }
 ],
 "metadata": {
  "kernelspec": {
   "display_name": "Python 3",
   "language": "python",
   "name": "python3"
  },
  "language_info": {
   "codemirror_mode": {
    "name": "ipython",
    "version": 3
   },
   "file_extension": ".py",
   "mimetype": "text/x-python",
   "name": "python",
   "nbconvert_exporter": "python",
   "pygments_lexer": "ipython3",
   "version": "3.8.5"
  }
 },
 "nbformat": 4,
 "nbformat_minor": 4
}
