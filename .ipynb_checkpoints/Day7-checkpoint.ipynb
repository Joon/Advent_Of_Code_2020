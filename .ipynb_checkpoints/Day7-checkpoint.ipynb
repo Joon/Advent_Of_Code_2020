{
 "cells": [
  {
   "cell_type": "code",
   "execution_count": 37,
   "metadata": {},
   "outputs": [],
   "source": [
    "import unicodedata\n",
    "\n",
    "passport_entries = []\n",
    "\n",
    "\n",
    "#light red bags contain 1 bright white bag, 2 muted yellow bags.\n",
    "#dark orange bags contain 3 bright white bags, 4 muted yellow bags.\n",
    "#bright white bags contain 1 shiny gold bag.\n",
    "#muted yellow bags contain 2 shiny gold bags, 9 faded blue bags.\n",
    "#shiny gold bags contain 1 dark olive bag, 2 vibrant plum bags.\n",
    "#dark olive bags contain 3 faded blue bags, 4 dotted black bags.\n",
    "#vibrant plum bags contain 5 faded blue bags, 6 dotted black bags.\n",
    "#faded blue bags contain no other bags.\n",
    "#dotted black bags contain no other bags.\n",
    "\n",
    "current_entry = {}\n",
    "all_rules = []\n",
    "rule_id = 1\n",
    "f = open(\"Inputs/Day7Test.txt\", \"r\")\n",
    "for x in f:        \n",
    "    current_entry = {}\n",
    "    line = \"\".join(ch for ch in x if unicodedata.category(ch)[0]!=\"C\")\n",
    "    rulesplit = line.split(' bags contain ')\n",
    "    current_entry['color'] = rulesplit[0]\n",
    "    remainder = rulesplit[1].replace('bags', '')\n",
    "    remainder = remainder.replace('bag', '')\n",
    "    remainder = remainder.replace('.', '')\n",
    "    rules = remainder.split(',')\n",
    "    current_entry['rules'] = {}\n",
    "    if remainder != 'no other ':\n",
    "        for r in rules:\n",
    "            # 5 faded blue\n",
    "            rule_words = r.strip().split(' ')\n",
    "            current_entry['rules'][rule_words[1] + ' ' + rule_words[2]] = int(rule_words[0])\n",
    "    current_entry['rule_id'] = rule_id\n",
    "    all_rules.append(current_entry)\n",
    "    rule_id += 1"
   ]
  },
  {
   "cell_type": "code",
   "execution_count": 38,
   "metadata": {},
   "outputs": [
    {
     "name": "stdout",
     "output_type": "stream",
     "text": [
      "[{'color': 'light red', 'rules': {'bright white': 1, 'muted yellow': 2}, 'rule_id': 1}, {'color': 'dark orange', 'rules': {'bright white': 3, 'muted yellow': 4}, 'rule_id': 2}, {'color': 'bright white', 'rules': {'shiny gold': 1}, 'rule_id': 3}, {'color': 'muted yellow', 'rules': {'shiny gold': 2, 'faded blue': 9}, 'rule_id': 4}, {'color': 'shiny gold', 'rules': {'dark olive': 1, 'vibrant plum': 2}, 'rule_id': 5}, {'color': 'dark olive', 'rules': {'faded blue': 3, 'dotted black': 4}, 'rule_id': 6}, {'color': 'vibrant plum', 'rules': {'faded blue': 5, 'dotted black': 6}, 'rule_id': 7}, {'color': 'faded blue', 'rules': {}, 'rule_id': 8}, {'color': 'dotted black', 'rules': {}, 'rule_id': 9}]\n"
     ]
    }
   ],
   "source": [
    "print(all_rules)"
   ]
  },
  {
   "cell_type": "code",
   "execution_count": 55,
   "metadata": {},
   "outputs": [
    {
     "ename": "NameError",
     "evalue": "name 'colord' is not defined",
     "output_type": "error",
     "traceback": [
      "\u001b[1;31m---------------------------------------------------------------------------\u001b[0m",
      "\u001b[1;31mNameError\u001b[0m                                 Traceback (most recent call last)",
      "\u001b[1;32m<ipython-input-55-a487bd9d319e>\u001b[0m in \u001b[0;36m<module>\u001b[1;34m\u001b[0m\n\u001b[0;32m     24\u001b[0m         \u001b[0mcan_contain\u001b[0m \u001b[1;33m+=\u001b[0m \u001b[1;36m1\u001b[0m\u001b[1;33m\u001b[0m\u001b[1;33m\u001b[0m\u001b[0m\n\u001b[0;32m     25\u001b[0m     \u001b[1;32melse\u001b[0m\u001b[1;33m:\u001b[0m\u001b[1;33m\u001b[0m\u001b[1;33m\u001b[0m\u001b[0m\n\u001b[1;32m---> 26\u001b[1;33m         \u001b[1;32mif\u001b[0m \u001b[0mfind_shinygold\u001b[0m\u001b[1;33m(\u001b[0m\u001b[1;33m[\u001b[0m\u001b[1;33m]\u001b[0m\u001b[1;33m,\u001b[0m \u001b[0mcolor\u001b[0m\u001b[1;33m,\u001b[0m \u001b[1;32mFalse\u001b[0m\u001b[1;33m)\u001b[0m\u001b[1;33m:\u001b[0m\u001b[1;33m\u001b[0m\u001b[1;33m\u001b[0m\u001b[0m\n\u001b[0m\u001b[0;32m     27\u001b[0m             \u001b[0mcan_contain\u001b[0m \u001b[1;33m+=\u001b[0m \u001b[1;36m1\u001b[0m\u001b[1;33m\u001b[0m\u001b[1;33m\u001b[0m\u001b[0m\n\u001b[0;32m     28\u001b[0m \u001b[1;33m\u001b[0m\u001b[0m\n",
      "\u001b[1;32m<ipython-input-55-a487bd9d319e>\u001b[0m in \u001b[0;36mfind_shinygold\u001b[1;34m(colors_checked, color, found)\u001b[0m\n\u001b[0;32m      3\u001b[0m \u001b[1;33m\u001b[0m\u001b[0m\n\u001b[0;32m      4\u001b[0m \u001b[1;32mdef\u001b[0m \u001b[0mfind_shinygold\u001b[0m\u001b[1;33m(\u001b[0m\u001b[0mcolors_checked\u001b[0m\u001b[1;33m,\u001b[0m \u001b[0mcolor\u001b[0m\u001b[1;33m,\u001b[0m \u001b[0mfound\u001b[0m\u001b[1;33m)\u001b[0m\u001b[1;33m:\u001b[0m\u001b[1;33m\u001b[0m\u001b[1;33m\u001b[0m\u001b[0m\n\u001b[1;32m----> 5\u001b[1;33m     \u001b[1;32mif\u001b[0m \u001b[1;33m(\u001b[0m\u001b[0mcolord\u001b[0m \u001b[1;32min\u001b[0m \u001b[0mcolors_checked\u001b[0m\u001b[1;33m)\u001b[0m\u001b[1;33m:\u001b[0m\u001b[1;33m\u001b[0m\u001b[1;33m\u001b[0m\u001b[0m\n\u001b[0m\u001b[0;32m      6\u001b[0m         \u001b[1;32mreturn\u001b[0m \u001b[1;32mFalse\u001b[0m\u001b[1;33m\u001b[0m\u001b[1;33m\u001b[0m\u001b[0m\n\u001b[0;32m      7\u001b[0m     \u001b[0mcolors_checked\u001b[0m\u001b[1;33m.\u001b[0m\u001b[0mappend\u001b[0m\u001b[1;33m(\u001b[0m\u001b[0mcolor\u001b[0m\u001b[1;33m)\u001b[0m\u001b[1;33m\u001b[0m\u001b[1;33m\u001b[0m\u001b[0m\n",
      "\u001b[1;31mNameError\u001b[0m: name 'colord' is not defined"
     ]
    }
   ],
   "source": [
    "# Part 1: How many bag colours could contain a shiny gold bag?\n",
    "\n",
    "\n",
    "def find_shinygold(colors_checked, color, found):\n",
    "    if (color in colors_checked):\n",
    "        return False\n",
    "    colors_checked.append(color)\n",
    "    rules = [r for r in all_rules if r['color'] == color]\n",
    "    local_found = found\n",
    "    for r in rules:\n",
    "        for contain in r['rules'].keys():\n",
    "            if (contain == 'shiny gold'):                \n",
    "                return True\n",
    "            else:\n",
    "                local_found = local_found or find_shinygold(colors_checked, contain, local_found)\n",
    "    return local_found\n",
    "\n",
    "can_contain = 0\n",
    "all_colors = [x['color'] for x in all_rules]\n",
    "colors_checked = []\n",
    "\n",
    "for color in all_colors:\n",
    "    if color == 'shiny gold':\n",
    "        can_contain += 1\n",
    "    else:\n",
    "        if find_shinygold([], color, False):\n",
    "            can_contain += 1\n",
    "\n",
    "print(can_contain)"
   ]
  },
  {
   "cell_type": "code",
   "execution_count": 23,
   "metadata": {},
   "outputs": [
    {
     "data": {
      "text/plain": [
       "dict_keys(['posh black', 'wavy gold', 'vibrant brown'])"
      ]
     },
     "execution_count": 23,
     "metadata": {},
     "output_type": "execute_result"
    }
   ],
   "source": [
    "rule = all_rules[0]\n",
    "rule['rules'].keys()"
   ]
  },
  {
   "cell_type": "code",
   "execution_count": null,
   "metadata": {},
   "outputs": [],
   "source": [
    "# Part 1: How many bag colours could contain a shiny gold bag?\n",
    "\n",
    "def find_shinygold(rules_checked, found, rule):\n",
    "    if rule['rule_id'] in rules_checked:\n",
    "        return False    \n",
    "    colors_checked.append(check_id)\n",
    "    \n",
    "    local_found = found\n",
    "    for rule in all_rules:\n",
    "        if check_color == rule['color']:\n",
    "            for contain in rule['rules'].keys():\n",
    "                if (contain == 'shiny gold'):                \n",
    "                    return True\n",
    "                else:\n",
    "                    local_found = local_found or find_shinygold(colors_checked, local_found, contain, rule['rule_id'])\n",
    "                        \n",
    "            break\n",
    "    return local_found\n",
    "\n",
    "\n",
    "can_contain = 0\n",
    "all_colors = [x['color'] for x in all_rules]\n",
    "colors_checked = []\n",
    "\n",
    "for color in all_colors:\n",
    "    if color == 'shiny gold':\n",
    "        can_contain += 1\n",
    "    else:\n",
    "        rules = [r in all_rules where r['color'] == color]\n",
    "        found = False\n",
    "        for r in rules:\n",
    "        if find_shinygold(colors_checked, False, color):\n",
    "            can_contain += 1\n",
    "\n",
    "print(can_contain)"
   ]
  }
 ],
 "metadata": {
  "kernelspec": {
   "display_name": "Python 3",
   "language": "python",
   "name": "python3"
  },
  "language_info": {
   "codemirror_mode": {
    "name": "ipython",
    "version": 3
   },
   "file_extension": ".py",
   "mimetype": "text/x-python",
   "name": "python",
   "nbconvert_exporter": "python",
   "pygments_lexer": "ipython3",
   "version": "3.8.5"
  }
 },
 "nbformat": 4,
 "nbformat_minor": 4
}
