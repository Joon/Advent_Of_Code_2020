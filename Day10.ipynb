{
 "cells": [
  {
   "cell_type": "code",
   "execution_count": 63,
   "metadata": {},
   "outputs": [
    {
     "name": "stdout",
     "output_type": "stream",
     "text": [
      "[26, 97, 31, 7, 2, 10, 46, 38, 112, 54, 30, 93, 18, 111, 29, 75, 139, 23, 132, 85, 78, 99, 8, 113, 87, 57, 133, 41, 104, 98, 58, 90, 13, 91, 20, 68, 103, 127, 105, 114, 138, 126, 67, 32, 145, 115, 16, 141, 1, 73, 45, 119, 51, 40, 35, 150, 118, 53, 80, 79, 65, 135, 74, 47, 128, 64, 17, 4, 84, 83, 147, 142, 146, 9, 125, 94, 140, 131, 134, 92, 66, 122, 19, 86, 50, 52, 108, 100, 71, 61, 44, 39, 3, 72]\n"
     ]
    }
   ],
   "source": [
    "adaptor_jolts = []\n",
    "\n",
    "f = open(\"Inputs/Day10.txt\", \"r\")\n",
    "for x in f:\n",
    "    adaptor_jolts.append(int(x))\n",
    "    \n",
    "print(adaptor_jolts)"
   ]
  },
  {
   "cell_type": "code",
   "execution_count": 2,
   "metadata": {},
   "outputs": [
    {
     "name": "stdout",
     "output_type": "stream",
     "text": [
      "94\n"
     ]
    }
   ],
   "source": [
    "print(len(adaptor_jolts))"
   ]
  },
  {
   "cell_type": "code",
   "execution_count": 68,
   "metadata": {},
   "outputs": [
    {
     "name": "stdout",
     "output_type": "stream",
     "text": [
      "1914\n"
     ]
    }
   ],
   "source": [
    "# Part 1: Find adaptor combinations\n",
    "\n",
    "adaptor_combos = []\n",
    "current_combo = [0]\n",
    "\n",
    "def search_adaptor_links(adaptor_start, current_combo, required_length, remaining_options, collect_combos):    \n",
    "    # Out of adaptors, we're done\n",
    "    if len(remaining_options) == 0:\n",
    "        return\n",
    "    # Didn't use all the possible adaptors, stop processing this leg\n",
    "    if min(remaining_options) < adaptor_start:\n",
    "        return\n",
    "        \n",
    "    for a in remaining_options:\n",
    "        if a >= adaptor_start and a <= adaptor_start + 3:\n",
    "            new_combo = current_combo.copy()\n",
    "            new_combo.append(a)\n",
    "            new_remaining = remaining_options.copy()\n",
    "            new_remaining.remove(a)\n",
    "            if (len(new_combo) > required_length):\n",
    "                collect_combos.append(new_combo)\n",
    "            search_adaptor_links(a, new_combo, required_length, new_remaining, collect_combos)\n",
    "            \n",
    "search_adaptor_links(0, current_combo, len(adaptor_jolts), adaptor_jolts, adaptor_combos)\n",
    "combo = adaptor_combos[0]\n",
    "\n",
    "jolt_diff_1 = 0\n",
    "jolt_diff_3 = 0\n",
    "prev = 0\n",
    "for i in range(1, len(combo)):\n",
    "    diff = combo[i] - prev\n",
    "    if diff == 1:\n",
    "        jolt_diff_1 += 1\n",
    "    if diff == 3:\n",
    "        jolt_diff_3 += 1\n",
    "    prev = combo[i]\n",
    "    \n",
    "# Add one to the 3 diff count for the diff between last adaptor and device\n",
    "jolt_diff_3 += 1\n",
    "print(str(jolt_diff_1 * jolt_diff_3))"
   ]
  },
  {
   "cell_type": "code",
   "execution_count": null,
   "metadata": {},
   "outputs": [],
   "source": [
    "# This works for the test data, but not for the real data\n",
    "\n",
    "jolt_target = max(adaptor_jolts)\n",
    "adaptor_combos = []\n",
    "current_combo = []\n",
    "\n",
    "def combo_rating(combo):\n",
    "    return max(combo)\n",
    "\n",
    "def search_adaptor_links(adaptor_start, current_combo, required_rating, remaining_options, collect_combos):    \n",
    "    if len(remaining_options) == 0:\n",
    "        return\n",
    "        \n",
    "    for a in remaining_options:\n",
    "        if a >= adaptor_start and a <= adaptor_start + 3:\n",
    "            new_combo = current_combo.copy()\n",
    "            new_combo.append(a)\n",
    "            new_remaining = remaining_options.copy()\n",
    "            new_remaining.remove(a)\n",
    "            if (combo_rating(new_combo) == required_rating):\n",
    "                adaptor_combos.append(new_combo)\n",
    "            else:\n",
    "                search_adaptor_links(a, new_combo, required_rating, new_remaining, collect_combos)\n",
    "            \n",
    "search_adaptor_links(0, current_combo, jolt_target, adaptor_jolts, adaptor_combos)\n",
    "print(len(adaptor_combos))"
   ]
  },
  {
   "cell_type": "code",
   "execution_count": null,
   "metadata": {},
   "outputs": [],
   "source": [
    "# This works for the test data, but not for the real data\n",
    "\n",
    "jolt_target = max(adaptor_jolts)\n",
    "combos = []\n",
    "start = 0\n",
    "current_len = 2\n",
    "\n",
    "add_number = 0\n",
    "for x in adaptor_jolts:\n",
    "    if x <= 3:\n",
    "        combo = {}\n",
    "        combo['combos'] = [0, x]\n",
    "        combo['max'] = x\n",
    "        combo['last_round'] = 0\n",
    "        combos.append(combo)\n",
    "        \n",
    "def fork_combo(combos, start_combo, start_combos, add_index, add_number, process_round):\n",
    "    if (add_index == 1):\n",
    "        start_combo['max'] = add_number\n",
    "        start_combo['combos'].append(add_number)\n",
    "        start_combo['last_round'] = process_round\n",
    "    else:\n",
    "        combo = {}\n",
    "        combo['combos'] = start_combos.copy()\n",
    "        combo['combos'].append(add_number)\n",
    "        combo['max'] = add_number\n",
    "        combo['last_round'] = process_round\n",
    "        combos.append(combo)\n",
    "        \n",
    "smallest_combo_end = 1\n",
    "process = True\n",
    "process_round = 0\n",
    "while process:\n",
    "    process_round += 1\n",
    "    # Process all combos that exist at this stage\n",
    "    for x in range(len(combos)):\n",
    "        start_combo = combos[x]\n",
    "        orig_max = start_combo['max']\n",
    "        start_combos = start_combo['combos'].copy()\n",
    "        add_index = 0\n",
    "        for add_number in adaptor_jolts:\n",
    "            if add_number > orig_max and add_number <= (orig_max + 3):\n",
    "                add_index += 1\n",
    "                fork_combo(combos, start_combo, start_combos, add_index, add_number, process_round)\n",
    "    \n",
    "    for y in range(len(combos) - 1, -1, -1):\n",
    "        combo = combos[y]\n",
    "        # Is this a stale branch, i.e. won't match anythign else?\n",
    "        if combo['max'] < jolt_target and combo['last_round'] < process_round:\n",
    "            print('deleting')\n",
    "            del combos[y]\n",
    "    \n",
    "    smallest_combo_end = min(x['max'] for x in combos)\n",
    "    # Continue until all the combos are at the max\n",
    "    process = smallest_combo_end < jolt_target\n",
    "\n",
    "print(len(combos))"
   ]
  },
  {
   "cell_type": "code",
   "execution_count": 71,
   "metadata": {},
   "outputs": [
    {
     "name": "stdout",
     "output_type": "stream",
     "text": [
      "{0: 1}\n",
      "9256148959232\n"
     ]
    }
   ],
   "source": [
    "# Neither of my approaches worked (calculating the combinations doesn't scale to the 9 trillion combinations that are possible)\n",
    "# Credit for this elegant solution goes to Viper at https://dev.to/qviper/advent-of-code-2020-python-solution-day-10-30kd. Thanks!\n",
    "\n",
    "solutions = {0:1}\n",
    "print(solutions)\n",
    "for jolt in sorted(adaptor_jolts):\n",
    "    # How many ways can we get to the current line?\n",
    "    solutions[jolt] = 0\n",
    "    # We can get to this value by however many ways we could get to the previous one\n",
    "    if jolt - 1 in solutions:\n",
    "        solutions[jolt] += solutions[jolt-1]\n",
    "    # Plus the number of ways we could have gotten to two values back\n",
    "    if jolt - 2 in solutions:\n",
    "        solutions[jolt] += solutions[jolt-2]\n",
    "    # Plus the number of ways we could have gotten to three values back\n",
    "    if jolt - 3 in solutions:\n",
    "        solutions[jolt] += solutions[jolt-3]\n",
    "\n",
    "print(solutions[max(adaptor_jolts)])"
   ]
  }
 ],
 "metadata": {
  "kernelspec": {
   "display_name": "Python 3",
   "language": "python",
   "name": "python3"
  },
  "language_info": {
   "codemirror_mode": {
    "name": "ipython",
    "version": 3
   },
   "file_extension": ".py",
   "mimetype": "text/x-python",
   "name": "python",
   "nbconvert_exporter": "python",
   "pygments_lexer": "ipython3",
   "version": "3.8.5"
  }
 },
 "nbformat": 4,
 "nbformat_minor": 4
}
