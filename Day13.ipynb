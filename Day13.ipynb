{
 "cells": [
  {
   "cell_type": "code",
   "execution_count": 5,
   "metadata": {},
   "outputs": [
    {
     "name": "stdout",
     "output_type": "stream",
     "text": [
      "1003055\n",
      "[37, 41, 433, 23, 17, 19, 29, 593, 13]\n"
     ]
    }
   ],
   "source": [
    "import unicodedata\n",
    "\n",
    "buses = []\n",
    "target = 0\n",
    "\n",
    "line_list = [line.rstrip() for line in open(\"Inputs/Day13.txt\")]\n",
    "\n",
    "target = int(line_list[0])\n",
    "buses = [int(x) for x in line_list[1].split(',') if x.isdigit()]\n",
    "\n",
    "print(target)\n",
    "print(buses)"
   ]
  },
  {
   "cell_type": "code",
   "execution_count": 13,
   "metadata": {},
   "outputs": [
    {
     "name": "stdout",
     "output_type": "stream",
     "text": [
      "{'bus': 41, 'timestamp': 1003065}\n",
      "410\n"
     ]
    }
   ],
   "source": [
    "def infinite_sequence(hop):\n",
    "    num = hop\n",
    "    while True:\n",
    "        yield num\n",
    "        num += hop\n",
    "\n",
    "generators = []\n",
    "for b in buses:\n",
    "    generators.append({'id': b, 'generator': infinite_sequence(b)})\n",
    "    \n",
    "departure = {'bus': 0, 'timestamp': target * 100}\n",
    "for g in generators:\n",
    "    for s in g['generator']:\n",
    "        if s > target:\n",
    "            if (departure['timestamp'] > s):\n",
    "                departure = {'bus': g['id'], 'timestamp': s}\n",
    "            break;\n",
    "            \n",
    "print(departure)    \n",
    "dif = departure['timestamp'] - target\n",
    "print(dif * departure['bus'])"
   ]
  },
  {
   "cell_type": "markdown",
   "metadata": {},
   "source": [
    "# Answer Part 2\n",
    "\n",
    "I solved part 1 on my own, and got as far as figuring out that the buses are pairwise coprime, tried to derive \n",
    "a formula for figuring out the remainder but ran out of math. \n",
    "\n",
    "Turns out this has been done already thousands of years ago :-) https://brilliant.org/wiki/chinese-remainder-theorem/\n",
    "\n",
    "The trick is to reformat the bus ids and positions into a list of modulos and remainders for the number we are looking for, and feed that into the Chinese Remainder Theorem\n",
    "\n",
    "From the example:\n",
    "\n",
    "Line 1 has modulo 7, remainder 0\n",
    "\n",
    "Line 2 has modulo 13, remainder 1\n",
    "\n",
    "Line 3 has modulo 59, remainder 4\n",
    "\n",
    "Line 4 has modulo 31, remainder 6\n",
    "\n",
    "Line 5 has modulo 19, remainder 7\n",
    "\n",
    "Solution from here: https://github.com/bsamseth/advent-of-code/blob/master/aoc-2020/day-13/day_13.py\n"
   ]
  },
  {
   "cell_type": "code",
   "execution_count": 8,
   "metadata": {},
   "outputs": [
    {
     "name": "stdout",
     "output_type": "stream",
     "text": [
      "[(0, 37), (27, 41), (37, 433), (45, 23), (54, 17), (56, 19), (66, 29), (68, 593), (81, 13)]\n",
      "Part 2: 600691418730595\n"
     ]
    }
   ],
   "source": [
    "from toolz import reduce, last\n",
    "\n",
    "with open(\"Inputs/Day13.txt\") as f:\n",
    "    timestamp = int(f.readline())\n",
    "    busses = [\n",
    "        (i, int(bus))\n",
    "        for i, bus in enumerate(f.readline().strip().split(\",\"))\n",
    "        if bus != \"x\"\n",
    "    ]\n",
    "\n",
    "# Problem to solve: Find an integer x such that\n",
    "#\n",
    "#    x + offset_i = 0 (mod bus_id_i), for all i\n",
    "# => x = -offset_i (mod bus_id_i) = bus_id_i - offset_i (mod bus_id_i)\n",
    "#\n",
    "# Solution given by Chinese Remainder Theorem because all the bus IDs are prime.\n",
    "# Let r_i = offset_i and m_i = bus_id_i, and N = m_1 m_2 ... m_n\n",
    "#\n",
    "#    x = sum_i  (m_i-r_i) * N / m_i * z_i\n",
    "#\n",
    "# where z_i is the inverse of y_i mod m_i (that is, y_i z_i = 1 (mod m_i) ).\n",
    "N = reduce(lambda a, b: a * b, map(last, busses))  # Product of all IDs (or moduli).\n",
    "print(\"Part 2:\", sum((m - r) * N // m * pow(N // m, -1, m) for r, m in busses) % N)"
   ]
  }
 ],
 "metadata": {
  "kernelspec": {
   "display_name": "Python 3",
   "language": "python",
   "name": "python3"
  },
  "language_info": {
   "codemirror_mode": {
    "name": "ipython",
    "version": 3
   },
   "file_extension": ".py",
   "mimetype": "text/x-python",
   "name": "python",
   "nbconvert_exporter": "python",
   "pygments_lexer": "ipython3",
   "version": "3.8.5"
  }
 },
 "nbformat": 4,
 "nbformat_minor": 4
}
