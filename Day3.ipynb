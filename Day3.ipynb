{
 "cells": [
  {
   "cell_type": "code",
   "execution_count": 16,
   "metadata": {},
   "outputs": [],
   "source": [
    "import unicodedata\n",
    "\n",
    "tree_pattern = []\n",
    "\n",
    "f = open(\"Inputs/Day3.txt\", \"r\")\n",
    "for x in f:    \n",
    "    tree_pattern.append(\"\".join(ch for ch in x if unicodedata.category(ch)[0]!=\"C\"))\n",
    "\n",
    "trees = tree_pattern.copy()"
   ]
  },
  {
   "cell_type": "code",
   "execution_count": 26,
   "metadata": {},
   "outputs": [
    {
     "name": "stdout",
     "output_type": "stream",
     "text": [
      "3621285278\n"
     ]
    }
   ],
   "source": [
    "def expand_trees(tree_list, tree_pattern):\n",
    "    ret_list = []\n",
    "    line_index = 0 \n",
    "    for line in tree_list:        \n",
    "        ret_list.append(line + tree_pattern[line_index])\n",
    "        line_index = line_index + 1\n",
    "    return ret_list\n",
    "\n",
    "def tree_count(trees, x_move, y_move):\n",
    "    tree_count = 0\n",
    "    x_index = 0\n",
    "    for line in range(0, len(trees), y_move):\n",
    "        #print('checking line {} position {}'.format(line, x_index))\n",
    "        if x_index >= len(trees[line]):\n",
    "            trees = expand_trees(trees, tree_pattern)\n",
    "        if trees[line][x_index] == \"#\":\n",
    "            tree_count = tree_count + 1\n",
    "        x_index = x_index + x_move\n",
    "\n",
    "    return tree_count\n",
    "\n",
    "range_1_1 = tree_count(trees, 1, 1)\n",
    "range_3_1 = tree_count(trees, 3, 1)\n",
    "range_5_1 = tree_count(trees, 5, 1)\n",
    "range_7_1 = tree_count(trees, 7, 1)\n",
    "range_1_2 = tree_count(trees, 1, 2)\n",
    "\n",
    "print(range_1_1 * range_3_1 * range_5_1 * range_7_1 * range_1_2)\n",
    "\n"
   ]
  },
  {
   "cell_type": "code",
   "execution_count": null,
   "metadata": {},
   "outputs": [],
   "source": []
  }
 ],
 "metadata": {
  "kernelspec": {
   "display_name": "Python 3",
   "language": "python",
   "name": "python3"
  },
  "language_info": {
   "codemirror_mode": {
    "name": "ipython",
    "version": 3
   },
   "file_extension": ".py",
   "mimetype": "text/x-python",
   "name": "python",
   "nbconvert_exporter": "python",
   "pygments_lexer": "ipython3",
   "version": "3.8.5"
  }
 },
 "nbformat": 4,
 "nbformat_minor": 4
}
