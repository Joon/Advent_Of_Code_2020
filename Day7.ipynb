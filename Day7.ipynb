{
 "cells": [
  {
   "cell_type": "code",
   "execution_count": 97,
   "metadata": {},
   "outputs": [],
   "source": [
    "import unicodedata\n",
    "\n",
    "passport_entries = []\n",
    "\n",
    "\n",
    "#light red bags contain 1 bright white bag, 2 muted yellow bags.\n",
    "#dark orange bags contain 3 bright white bags, 4 muted yellow bags.\n",
    "#bright white bags contain 1 shiny gold bag.\n",
    "#muted yellow bags contain 2 shiny gold bags, 9 faded blue bags.\n",
    "#shiny gold bags contain 1 dark olive bag, 2 vibrant plum bags.\n",
    "#dark olive bags contain 3 faded blue bags, 4 dotted black bags.\n",
    "#vibrant plum bags contain 5 faded blue bags, 6 dotted black bags.\n",
    "#faded blue bags contain no other bags.\n",
    "#dotted black bags contain no other bags.\n",
    "\n",
    "current_entry = {}\n",
    "all_rules = []\n",
    "rule_id = 1\n",
    "f = open(\"Inputs/Day7.txt\", \"r\")\n",
    "for x in f:        \n",
    "    current_entry = {}\n",
    "    line = \"\".join(ch for ch in x if unicodedata.category(ch)[0]!=\"C\")\n",
    "    rulesplit = line.split(' bags contain ')\n",
    "    current_entry['color'] = rulesplit[0]\n",
    "    remainder = rulesplit[1].replace('bags', '')\n",
    "    remainder = remainder.replace('bag', '')\n",
    "    remainder = remainder.replace('.', '')\n",
    "    rules = remainder.split(',')\n",
    "    current_entry['rules'] = {}\n",
    "    if remainder != 'no other ':\n",
    "        for r in rules:\n",
    "            # 5 faded blue\n",
    "            rule_words = r.strip().split(' ')\n",
    "            current_entry['rules'][rule_words[1] + ' ' + rule_words[2]] = int(rule_words[0])\n",
    "    current_entry['rule_id'] = rule_id\n",
    "    all_rules.append(current_entry)\n",
    "    rule_id += 1"
   ]
  },
  {
   "cell_type": "code",
   "execution_count": null,
   "metadata": {},
   "outputs": [],
   "source": [
    "print(all_rules)"
   ]
  },
  {
   "cell_type": "code",
   "execution_count": null,
   "metadata": {},
   "outputs": [],
   "source": [
    "# Part 1: How many bag colours could contain a shiny gold bag?\n",
    "\n",
    "\n",
    "def find_shinygold(color, found):\n",
    "    rules = [r for r in all_rules if r['color'] == color]\n",
    "    local_found = found\n",
    "    for r in rules:\n",
    "        for contain in r['rules'].keys():\n",
    "            if (contain == 'shiny gold'):                \n",
    "                return True\n",
    "            else:\n",
    "                local_found = local_found or find_shinygold(contain, local_found)\n",
    "    return local_found\n",
    "\n",
    "can_contain = 0\n",
    "all_colors = [x['color'] for x in all_rules]\n",
    "colors_checked = []\n",
    "\n",
    "for color in all_colors:\n",
    "    if find_shinygold(color, False):\n",
    "        print(color + ' can contain shiny gold')\n",
    "        can_contain += 1\n",
    "\n",
    "print(can_contain)"
   ]
  },
  {
   "cell_type": "code",
   "execution_count": 98,
   "metadata": {},
   "outputs": [
    {
     "name": "stdout",
     "output_type": "stream",
     "text": [
      "7872\n"
     ]
    }
   ],
   "source": [
    "# part 2: how many inside a shiny gold bag?\n",
    "\n",
    "def sum_child_bags(rule):\n",
    "    local_count = 0\n",
    "    for r in rule['rules'].keys():\n",
    "        multiplier = rule['rules'][r]\n",
    "        local_count += multiplier\n",
    "        child_rule = [cr for cr in all_rules if cr['color'] == r]\n",
    "        if(len(child_rule) > 1):\n",
    "            print('ERROR ERRORR ERROR')\n",
    "        if len(child_rule) == 1:\n",
    "            local_count += multiplier * sum_child_bags(child_rule[0])\n",
    "    return local_count\n",
    "\n",
    "gold_rule = [r for r in all_rules if r['color'] == 'shiny gold']\n",
    "print(sum_child_bags(gold_rule[0]))\n"
   ]
  },
  {
   "cell_type": "code",
   "execution_count": 86,
   "metadata": {},
   "outputs": [
    {
     "name": "stdout",
     "output_type": "stream",
     "text": [
      "[{'color': 'light red', 'rules': {'bright white': 1, 'muted yellow': 2}, 'rule_id': 1}, {'color': 'dark orange', 'rules': {'bright white': 3, 'muted yellow': 4}, 'rule_id': 2}, {'color': 'bright white', 'rules': {'shiny gold': 1}, 'rule_id': 3}, {'color': 'muted yellow', 'rules': {'shiny gold': 2, 'faded blue': 9}, 'rule_id': 4}, {'color': 'shiny gold', 'rules': {'dark olive': 1, 'vibrant plum': 2}, 'rule_id': 5}, {'color': 'dark olive', 'rules': {'faded blue': 3, 'dotted black': 4}, 'rule_id': 6}, {'color': 'vibrant plum', 'rules': {'faded blue': 5, 'dotted black': 6}, 'rule_id': 7}, {'color': 'faded blue', 'rules': {}, 'rule_id': 8}, {'color': 'dotted black', 'rules': {}, 'rule_id': 9}]\n"
     ]
    }
   ],
   "source": [
    "{'color': 'shiny gold', 'rules': {'dark olive': 1, 'vibrant plum': 2}, 'rule_id': 5},\n",
    "{'color': 'dark olive', 'rules': {'faded blue': 3, 'dotted black': 4}, 'rule_id': 6}, \n",
    "{'color': 'faded blue', 'rules': {}, 'rule_id': 8}, \n",
    "{'color': 'dotted black', 'rules': {}, 'rule_id': 9}\n",
    "{'color': 'vibrant plum', 'rules': {'faded blue': 5, 'dotted black': 6}, 'rule_id': 7}, \n",
    "{'color': 'faded blue', 'rules': {}, 'rule_id': 8}, \n",
    "{'color': 'dotted black', 'rules': {}, 'rule_id': 9}"
   ]
  }
 ],
 "metadata": {
  "kernelspec": {
   "display_name": "Python 3",
   "language": "python",
   "name": "python3"
  },
  "language_info": {
   "codemirror_mode": {
    "name": "ipython",
    "version": 3
   },
   "file_extension": ".py",
   "mimetype": "text/x-python",
   "name": "python",
   "nbconvert_exporter": "python",
   "pygments_lexer": "ipython3",
   "version": "3.8.5"
  }
 },
 "nbformat": 4,
 "nbformat_minor": 4
}
