{
 "cells": [
  {
   "cell_type": "code",
   "execution_count": 26,
   "metadata": {},
   "outputs": [],
   "source": [
    "import unicodedata\n",
    "\n",
    "program_code = []\n",
    "\n",
    "f = open(\"Inputs/Day8.txt\", \"r\")\n",
    "for x in f:        \n",
    "    line = \"\".join(ch for ch in x if unicodedata.category(ch)[0]!=\"C\")\n",
    "    current_entry = {}\n",
    "    current_entry['instruction'] = line.split(' ')[0]\n",
    "    current_entry['value'] = int(line.split(' ')[1])\n",
    "    program_code.append(current_entry)\n"
   ]
  },
  {
   "cell_type": "code",
   "execution_count": 12,
   "metadata": {},
   "outputs": [
    {
     "name": "stdout",
     "output_type": "stream",
     "text": [
      "terminating :596\n",
      "max instruction:600\n",
      "1217\n"
     ]
    }
   ],
   "source": [
    "# Part 1: Calculate accumulator\n",
    "accum = 0\n",
    "current_instruction = 0\n",
    "instructions_processed = []\n",
    "processing = True\n",
    "\n",
    "while processing:\n",
    "    if current_instruction in instructions_processed:\n",
    "        print('terminating :' + str(current_instruction))\n",
    "        instructions_processed.sort()\n",
    "        print('max instruction:' + str(instructions_processed[len(instructions_processed) - 1]))\n",
    "        processing = False\n",
    "    else:\n",
    "        line = program_code[current_instruction]\n",
    "        instructions_processed.append(current_instruction)\n",
    "        if line['instruction'] == 'acc':\n",
    "            accum += line['value']\n",
    "        if line['instruction'] == 'jmp':\n",
    "            current_instruction += line['value']\n",
    "        else:\n",
    "            current_instruction += 1\n",
    "            \n",
    "\n",
    "print(accum)\n"
   ]
  },
  {
   "cell_type": "code",
   "execution_count": 25,
   "metadata": {},
   "outputs": [
    {
     "name": "stdout",
     "output_type": "stream",
     "text": [
      "Program terminated normally at: 501 instruction modified at line: 198\n"
     ]
    }
   ],
   "source": [
    "import copy\n",
    "\n",
    "# Part 2: Find the bug, brute force baby!\n",
    "for x in range(len(program_code)):\n",
    "    local_code = copy.deepcopy(program_code)\n",
    "    if (local_code[x]['instruction'] == 'nop'):\n",
    "        local_code[x]['instruction'] = 'jmp'\n",
    "    if (local_code[x]['instruction'] == 'jmp'):\n",
    "        local_code[x]['instruction'] = 'nop'\n",
    "    \n",
    "    accum = 0\n",
    "    current_instruction = 0\n",
    "    instructions_processed = []\n",
    "    processing = True\n",
    "\n",
    "    while processing:\n",
    "        if (current_instruction == len(local_code)):\n",
    "            print('Program terminated normally at: ' + str(accum) + ' instruction modified at line: ' + str(x))\n",
    "            break\n",
    "            \n",
    "        if current_instruction in instructions_processed:\n",
    "            instructions_processed.sort()\n",
    "            processing = False\n",
    "        else:\n",
    "            line = local_code[current_instruction]\n",
    "            instructions_processed.append(current_instruction)\n",
    "            if line['instruction'] == 'acc':\n",
    "                accum += line['value']\n",
    "            if line['instruction'] == 'jmp':\n",
    "                current_instruction += line['value']\n",
    "            else:\n",
    "                current_instruction += 1\n"
   ]
  }
 ],
 "metadata": {
  "kernelspec": {
   "display_name": "Python 3",
   "language": "python",
   "name": "python3"
  },
  "language_info": {
   "codemirror_mode": {
    "name": "ipython",
    "version": 3
   },
   "file_extension": ".py",
   "mimetype": "text/x-python",
   "name": "python",
   "nbconvert_exporter": "python",
   "pygments_lexer": "ipython3",
   "version": "3.8.5"
  }
 },
 "nbformat": 4,
 "nbformat_minor": 4
}
