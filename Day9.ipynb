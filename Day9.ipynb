{
 "cells": [
  {
   "cell_type": "code",
   "execution_count": 2,
   "metadata": {},
   "outputs": [],
   "source": [
    "encoded_lines = []\n",
    "\n",
    "f = open(\"Inputs/Day9.txt\", \"r\")\n",
    "for x in f:\n",
    "    encoded_lines.append(int(x))"
   ]
  },
  {
   "cell_type": "code",
   "execution_count": 9,
   "metadata": {},
   "outputs": [
    {
     "name": "stdout",
     "output_type": "stream",
     "text": [
      "unsum: 26796446\n"
     ]
    }
   ],
   "source": [
    "import itertools\n",
    "# Part 1: Find first number that is not a sum of the pre-amble\n",
    "\n",
    "index = 0\n",
    "seen_numbers = []\n",
    "for n in encoded_lines:\n",
    "    if (index >= 25):\n",
    "        sum_options = itertools.product(seen_numbers, seen_numbers)\n",
    "        sum_options = [(x, y) for (x, y) in sum_options if x != y]        \n",
    "        sums = [(x, y) for (x, y) in sum_options if x + y == n]\n",
    "        if len(sums) == 0:\n",
    "            print('unsum: ' + str(n))\n",
    "            break\n",
    "        \n",
    "    \n",
    "    seen_numbers.append(n)\n",
    "    index += 1"
   ]
  },
  {
   "cell_type": "code",
   "execution_count": 16,
   "metadata": {},
   "outputs": [
    {
     "name": "stdout",
     "output_type": "stream",
     "text": [
      "396 412\n",
      "3353494\n"
     ]
    }
   ],
   "source": [
    "# Part 2: Find contiguous number\n",
    "\n",
    "range_start = 0\n",
    "range_end = 0\n",
    "\n",
    "search_val = 26796446\n",
    "for i in range(len(encoded_lines)):\n",
    "    running_sum = encoded_lines[i]\n",
    "    for j in range(i + 1, len(encoded_lines)):\n",
    "        running_sum += encoded_lines[j]\n",
    "        if (running_sum == search_val):\n",
    "            range_start = i\n",
    "            range_end = j\n",
    "            break\n",
    "        if (running_sum > search_val):\n",
    "            break\n",
    "    \n",
    "    if (range_end > 0):\n",
    "        break\n",
    "        \n",
    "print(range_start, range_end)\n",
    "range_nrs = []\n",
    "for i in range(range_start, range_end + 1):\n",
    "    range_nrs.append(encoded_lines[i])\n",
    "    \n",
    "range_nrs.sort()\n",
    "print(range_nrs[0] + range_nrs[len(range_nrs) - 1])"
   ]
  },
  {
   "cell_type": "code",
   "execution_count": null,
   "metadata": {},
   "outputs": [],
   "source": []
  }
 ],
 "metadata": {
  "kernelspec": {
   "display_name": "Python 3",
   "language": "python",
   "name": "python3"
  },
  "language_info": {
   "codemirror_mode": {
    "name": "ipython",
    "version": 3
   },
   "file_extension": ".py",
   "mimetype": "text/x-python",
   "name": "python",
   "nbconvert_exporter": "python",
   "pygments_lexer": "ipython3",
   "version": "3.8.5"
  }
 },
 "nbformat": 4,
 "nbformat_minor": 4
}
